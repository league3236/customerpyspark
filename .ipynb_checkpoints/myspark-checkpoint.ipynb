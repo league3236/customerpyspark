{
 "cells": [
  {
   "cell_type": "code",
   "execution_count": 1,
   "metadata": {},
   "outputs": [],
   "source": [
    "#hdfs 대신 단순 csv를 읽어와서 데이터 처리 후 csv를 저장.\n",
    "#sample 용으로 standalone으로 실제 작업시 mesos모드로 변경 필요\n",
    "\n",
    "# spark 모듈 추가\n",
    "from pyspark import SparkConf, SparkContext\n",
    "from pyspark.sql import SparkSession"
   ]
  },
  {
   "cell_type": "code",
   "execution_count": 2,
   "metadata": {},
   "outputs": [],
   "source": [
    "# 그외 모듈 추가\n",
    "import pandas as pd\n",
    "import numpy as np"
   ]
  },
  {
   "cell_type": "code",
   "execution_count": 3,
   "metadata": {},
   "outputs": [],
   "source": [
    "# spark context 설정\n",
    "conf = SparkConf().setAppName(\"paySparkApp\")\n",
    "sc = SparkContext(conf=conf)\n",
    "# sparksession 생성\n",
    "sparksession = SparkSession(sc)\n"
   ]
  },
  {
   "cell_type": "code",
   "execution_count": 4,
   "metadata": {},
   "outputs": [
    {
     "name": "stdout",
     "output_type": "stream",
     "text": [
      "+---+----+--------+-----------+\n",
      "| id|name|birthday|nationality|\n",
      "+---+----+--------+-----------+\n",
      "|  1|null|    null|       null|\n",
      "|  2|null|    null|       null|\n",
      "+---+----+--------+-----------+\n",
      "only showing top 2 rows\n",
      "\n",
      "+---+-------------------+-----------+-------+\n",
      "| id|   transaction_date|customer_id| amount|\n",
      "+---+-------------------+-----------+-------+\n",
      "|  1|2019-01-01 00:00:01|       3001| 543500|\n",
      "|  2|2019-01-01 00:00:44|       3002|1633600|\n",
      "+---+-------------------+-----------+-------+\n",
      "only showing top 2 rows\n",
      "\n"
     ]
    }
   ],
   "source": [
    "\n",
    "# customer data 읽기\n",
    "customer = sparksession.read.csv(\"data/origin/customer.csv\", inferSchema=True, header=True)\n",
    "customer.show(2)\n",
    "\n",
    "# transaction data 읽기\n",
    "transaction = sparksession.read.csv(\"data/origin/transaction.csv\", inferSchema=True, header=True)\n",
    "transaction.show(2)"
   ]
  },
  {
   "cell_type": "code",
   "execution_count": 5,
   "metadata": {},
   "outputs": [],
   "source": [
    "#customer pandas 형태로 변환\n",
    "new_customer=customer.toPandas()"
   ]
  },
  {
   "cell_type": "code",
   "execution_count": 6,
   "metadata": {},
   "outputs": [
    {
     "data": {
      "text/plain": [
       "(10000, 4)"
      ]
     },
     "execution_count": 6,
     "metadata": {},
     "output_type": "execute_result"
    }
   ],
   "source": [
    "new_customer.shape"
   ]
  },
  {
   "cell_type": "code",
   "execution_count": 7,
   "metadata": {},
   "outputs": [
    {
     "name": "stdout",
     "output_type": "stream",
     "text": [
      "<class 'pandas.core.frame.DataFrame'>\n",
      "RangeIndex: 10000 entries, 0 to 9999\n",
      "Data columns (total 4 columns):\n",
      "id             10000 non-null int32\n",
      "name           0 non-null object\n",
      "birthday       0 non-null object\n",
      "nationality    0 non-null object\n",
      "dtypes: int32(1), object(3)\n",
      "memory usage: 273.6+ KB\n"
     ]
    }
   ],
   "source": [
    "new_customer.info()"
   ]
  },
  {
   "cell_type": "code",
   "execution_count": 8,
   "metadata": {},
   "outputs": [
    {
     "data": {
      "text/html": [
       "<div>\n",
       "<style scoped>\n",
       "    .dataframe tbody tr th:only-of-type {\n",
       "        vertical-align: middle;\n",
       "    }\n",
       "\n",
       "    .dataframe tbody tr th {\n",
       "        vertical-align: top;\n",
       "    }\n",
       "\n",
       "    .dataframe thead th {\n",
       "        text-align: right;\n",
       "    }\n",
       "</style>\n",
       "<table border=\"1\" class=\"dataframe\">\n",
       "  <thead>\n",
       "    <tr style=\"text-align: right;\">\n",
       "      <th></th>\n",
       "      <th>id</th>\n",
       "      <th>name</th>\n",
       "      <th>birthday</th>\n",
       "      <th>nationality</th>\n",
       "    </tr>\n",
       "  </thead>\n",
       "  <tbody>\n",
       "    <tr>\n",
       "      <th>0</th>\n",
       "      <td>1</td>\n",
       "      <td>None</td>\n",
       "      <td>None</td>\n",
       "      <td>None</td>\n",
       "    </tr>\n",
       "    <tr>\n",
       "      <th>1</th>\n",
       "      <td>2</td>\n",
       "      <td>None</td>\n",
       "      <td>None</td>\n",
       "      <td>None</td>\n",
       "    </tr>\n",
       "    <tr>\n",
       "      <th>2</th>\n",
       "      <td>3</td>\n",
       "      <td>None</td>\n",
       "      <td>None</td>\n",
       "      <td>None</td>\n",
       "    </tr>\n",
       "    <tr>\n",
       "      <th>3</th>\n",
       "      <td>4</td>\n",
       "      <td>None</td>\n",
       "      <td>None</td>\n",
       "      <td>None</td>\n",
       "    </tr>\n",
       "    <tr>\n",
       "      <th>4</th>\n",
       "      <td>5</td>\n",
       "      <td>None</td>\n",
       "      <td>None</td>\n",
       "      <td>None</td>\n",
       "    </tr>\n",
       "  </tbody>\n",
       "</table>\n",
       "</div>"
      ],
      "text/plain": [
       "   id  name birthday nationality\n",
       "0   1  None     None        None\n",
       "1   2  None     None        None\n",
       "2   3  None     None        None\n",
       "3   4  None     None        None\n",
       "4   5  None     None        None"
      ]
     },
     "execution_count": 8,
     "metadata": {},
     "output_type": "execute_result"
    }
   ],
   "source": [
    "new_customer.head()"
   ]
  },
  {
   "cell_type": "code",
   "execution_count": 9,
   "metadata": {},
   "outputs": [],
   "source": [
    "#transaction pandas 형태로 변환\n",
    "new_transaction=transaction.toPandas()"
   ]
  },
  {
   "cell_type": "code",
   "execution_count": 10,
   "metadata": {},
   "outputs": [
    {
     "data": {
      "text/plain": [
       "(120000, 4)"
      ]
     },
     "execution_count": 10,
     "metadata": {},
     "output_type": "execute_result"
    }
   ],
   "source": [
    "new_transaction.shape"
   ]
  },
  {
   "cell_type": "code",
   "execution_count": 11,
   "metadata": {},
   "outputs": [
    {
     "name": "stdout",
     "output_type": "stream",
     "text": [
      "<class 'pandas.core.frame.DataFrame'>\n",
      "RangeIndex: 120000 entries, 0 to 119999\n",
      "Data columns (total 4 columns):\n",
      "id                  120000 non-null int32\n",
      "transaction_date    120000 non-null datetime64[ns]\n",
      "customer_id         120000 non-null int32\n",
      "amount              120000 non-null int32\n",
      "dtypes: datetime64[ns](1), int32(3)\n",
      "memory usage: 2.3 MB\n"
     ]
    }
   ],
   "source": [
    "new_transaction.info()"
   ]
  },
  {
   "cell_type": "code",
   "execution_count": 12,
   "metadata": {},
   "outputs": [
    {
     "data": {
      "text/html": [
       "<div>\n",
       "<style scoped>\n",
       "    .dataframe tbody tr th:only-of-type {\n",
       "        vertical-align: middle;\n",
       "    }\n",
       "\n",
       "    .dataframe tbody tr th {\n",
       "        vertical-align: top;\n",
       "    }\n",
       "\n",
       "    .dataframe thead th {\n",
       "        text-align: right;\n",
       "    }\n",
       "</style>\n",
       "<table border=\"1\" class=\"dataframe\">\n",
       "  <thead>\n",
       "    <tr style=\"text-align: right;\">\n",
       "      <th></th>\n",
       "      <th>id</th>\n",
       "      <th>transaction_date</th>\n",
       "      <th>customer_id</th>\n",
       "      <th>amount</th>\n",
       "    </tr>\n",
       "  </thead>\n",
       "  <tbody>\n",
       "    <tr>\n",
       "      <th>0</th>\n",
       "      <td>1</td>\n",
       "      <td>2019-01-01 00:00:01</td>\n",
       "      <td>3001</td>\n",
       "      <td>543500</td>\n",
       "    </tr>\n",
       "    <tr>\n",
       "      <th>1</th>\n",
       "      <td>2</td>\n",
       "      <td>2019-01-01 00:00:44</td>\n",
       "      <td>3002</td>\n",
       "      <td>1633600</td>\n",
       "    </tr>\n",
       "    <tr>\n",
       "      <th>2</th>\n",
       "      <td>3</td>\n",
       "      <td>2019-01-01 00:01:27</td>\n",
       "      <td>3003</td>\n",
       "      <td>620400</td>\n",
       "    </tr>\n",
       "    <tr>\n",
       "      <th>3</th>\n",
       "      <td>4</td>\n",
       "      <td>2019-01-01 00:02:11</td>\n",
       "      <td>3004</td>\n",
       "      <td>1835600</td>\n",
       "    </tr>\n",
       "    <tr>\n",
       "      <th>4</th>\n",
       "      <td>5</td>\n",
       "      <td>2019-01-01 00:02:54</td>\n",
       "      <td>3005</td>\n",
       "      <td>408200</td>\n",
       "    </tr>\n",
       "  </tbody>\n",
       "</table>\n",
       "</div>"
      ],
      "text/plain": [
       "   id    transaction_date  customer_id   amount\n",
       "0   1 2019-01-01 00:00:01         3001   543500\n",
       "1   2 2019-01-01 00:00:44         3002  1633600\n",
       "2   3 2019-01-01 00:01:27         3003   620400\n",
       "3   4 2019-01-01 00:02:11         3004  1835600\n",
       "4   5 2019-01-01 00:02:54         3005   408200"
      ]
     },
     "execution_count": 12,
     "metadata": {},
     "output_type": "execute_result"
    }
   ],
   "source": [
    "new_transaction.head()"
   ]
  },
  {
   "cell_type": "code",
   "execution_count": 13,
   "metadata": {},
   "outputs": [
    {
     "data": {
      "text/html": [
       "<div>\n",
       "<style scoped>\n",
       "    .dataframe tbody tr th:only-of-type {\n",
       "        vertical-align: middle;\n",
       "    }\n",
       "\n",
       "    .dataframe tbody tr th {\n",
       "        vertical-align: top;\n",
       "    }\n",
       "\n",
       "    .dataframe thead th {\n",
       "        text-align: right;\n",
       "    }\n",
       "</style>\n",
       "<table border=\"1\" class=\"dataframe\">\n",
       "  <thead>\n",
       "    <tr style=\"text-align: right;\">\n",
       "      <th></th>\n",
       "      <th>base_yymm</th>\n",
       "      <th>customer_id</th>\n",
       "      <th>risk_score</th>\n",
       "      <th>risk_grade</th>\n",
       "    </tr>\n",
       "  </thead>\n",
       "  <tbody>\n",
       "  </tbody>\n",
       "</table>\n",
       "</div>"
      ],
      "text/plain": [
       "Empty DataFrame\n",
       "Columns: [base_yymm, customer_id, risk_score, risk_grade]\n",
       "Index: []"
      ]
     },
     "execution_count": 13,
     "metadata": {},
     "output_type": "execute_result"
    }
   ],
   "source": [
    "#최종적으로 결과가 적재될 customer_risk_result 생성\n",
    "customer_risk_result = pd.DataFrame(columns=['base_yymm','customer_id','risk_score','risk_grade'])\n",
    "customer_risk_result"
   ]
  },
  {
   "cell_type": "code",
   "execution_count": 14,
   "metadata": {},
   "outputs": [
    {
     "data": {
      "text/html": [
       "<div>\n",
       "<style scoped>\n",
       "    .dataframe tbody tr th:only-of-type {\n",
       "        vertical-align: middle;\n",
       "    }\n",
       "\n",
       "    .dataframe tbody tr th {\n",
       "        vertical-align: top;\n",
       "    }\n",
       "\n",
       "    .dataframe thead th {\n",
       "        text-align: right;\n",
       "    }\n",
       "</style>\n",
       "<table border=\"1\" class=\"dataframe\">\n",
       "  <thead>\n",
       "    <tr style=\"text-align: right;\">\n",
       "      <th></th>\n",
       "      <th>base_yymm</th>\n",
       "      <th>customer_id</th>\n",
       "      <th>risk_score</th>\n",
       "      <th>risk_grade</th>\n",
       "    </tr>\n",
       "  </thead>\n",
       "  <tbody>\n",
       "    <tr>\n",
       "      <th>0</th>\n",
       "      <td>NaN</td>\n",
       "      <td>1</td>\n",
       "      <td>NaN</td>\n",
       "      <td>NaN</td>\n",
       "    </tr>\n",
       "    <tr>\n",
       "      <th>1</th>\n",
       "      <td>NaN</td>\n",
       "      <td>2</td>\n",
       "      <td>NaN</td>\n",
       "      <td>NaN</td>\n",
       "    </tr>\n",
       "    <tr>\n",
       "      <th>2</th>\n",
       "      <td>NaN</td>\n",
       "      <td>3</td>\n",
       "      <td>NaN</td>\n",
       "      <td>NaN</td>\n",
       "    </tr>\n",
       "    <tr>\n",
       "      <th>3</th>\n",
       "      <td>NaN</td>\n",
       "      <td>4</td>\n",
       "      <td>NaN</td>\n",
       "      <td>NaN</td>\n",
       "    </tr>\n",
       "    <tr>\n",
       "      <th>4</th>\n",
       "      <td>NaN</td>\n",
       "      <td>5</td>\n",
       "      <td>NaN</td>\n",
       "      <td>NaN</td>\n",
       "    </tr>\n",
       "  </tbody>\n",
       "</table>\n",
       "</div>"
      ],
      "text/plain": [
       "  base_yymm  customer_id risk_score risk_grade\n",
       "0       NaN            1        NaN        NaN\n",
       "1       NaN            2        NaN        NaN\n",
       "2       NaN            3        NaN        NaN\n",
       "3       NaN            4        NaN        NaN\n",
       "4       NaN            5        NaN        NaN"
      ]
     },
     "execution_count": 14,
     "metadata": {},
     "output_type": "execute_result"
    }
   ],
   "source": [
    "#new_customer id값을 customer_risk_result에 적재\n",
    "customer_risk_result['customer_id'] = new_customer['id']\n",
    "customer_risk_result.head()"
   ]
  },
  {
   "cell_type": "code",
   "execution_count": 15,
   "metadata": {},
   "outputs": [
    {
     "name": "stdout",
     "output_type": "stream",
     "text": [
      "19-04-01\n"
     ]
    }
   ],
   "source": [
    "#시스템 날짜 구하는 방법  (추후 적용)\n",
    "import datetime, time\n",
    "this_yymm = datetime.date.today()\n",
    "# base_yymm = this_yymm.isoformat()   ## 진짜 현재 시간이 나와버려서.. 데이터랑 일치 X\n",
    "base_yymm = '19-04-01'   ### 04월 부터 일단 달마다 계산하기.\n",
    "start_yymm = 1  ### 3개월전 데이터\n",
    "end_yymm = 3    ### 1개월전 데이터\n",
    "print(base_yymm)"
   ]
  },
  {
   "cell_type": "code",
   "execution_count": 16,
   "metadata": {},
   "outputs": [
    {
     "data": {
      "text/html": [
       "<div>\n",
       "<style scoped>\n",
       "    .dataframe tbody tr th:only-of-type {\n",
       "        vertical-align: middle;\n",
       "    }\n",
       "\n",
       "    .dataframe tbody tr th {\n",
       "        vertical-align: top;\n",
       "    }\n",
       "\n",
       "    .dataframe thead th {\n",
       "        text-align: right;\n",
       "    }\n",
       "</style>\n",
       "<table border=\"1\" class=\"dataframe\">\n",
       "  <thead>\n",
       "    <tr style=\"text-align: right;\">\n",
       "      <th></th>\n",
       "      <th>base_yymm</th>\n",
       "      <th>customer_id</th>\n",
       "      <th>risk_score</th>\n",
       "      <th>risk_grade</th>\n",
       "    </tr>\n",
       "  </thead>\n",
       "  <tbody>\n",
       "    <tr>\n",
       "      <th>0</th>\n",
       "      <td>19-04-01</td>\n",
       "      <td>1</td>\n",
       "      <td>NaN</td>\n",
       "      <td>NaN</td>\n",
       "    </tr>\n",
       "    <tr>\n",
       "      <th>1</th>\n",
       "      <td>19-04-01</td>\n",
       "      <td>2</td>\n",
       "      <td>NaN</td>\n",
       "      <td>NaN</td>\n",
       "    </tr>\n",
       "    <tr>\n",
       "      <th>2</th>\n",
       "      <td>19-04-01</td>\n",
       "      <td>3</td>\n",
       "      <td>NaN</td>\n",
       "      <td>NaN</td>\n",
       "    </tr>\n",
       "    <tr>\n",
       "      <th>3</th>\n",
       "      <td>19-04-01</td>\n",
       "      <td>4</td>\n",
       "      <td>NaN</td>\n",
       "      <td>NaN</td>\n",
       "    </tr>\n",
       "    <tr>\n",
       "      <th>4</th>\n",
       "      <td>19-04-01</td>\n",
       "      <td>5</td>\n",
       "      <td>NaN</td>\n",
       "      <td>NaN</td>\n",
       "    </tr>\n",
       "  </tbody>\n",
       "</table>\n",
       "</div>"
      ],
      "text/plain": [
       "  base_yymm  customer_id risk_score risk_grade\n",
       "0  19-04-01            1        NaN        NaN\n",
       "1  19-04-01            2        NaN        NaN\n",
       "2  19-04-01            3        NaN        NaN\n",
       "3  19-04-01            4        NaN        NaN\n",
       "4  19-04-01            5        NaN        NaN"
      ]
     },
     "execution_count": 16,
     "metadata": {},
     "output_type": "execute_result"
    }
   ],
   "source": [
    "#배치돌리는 시간 적재 오늘 날짜가 19-04-01이라 가정\n",
    "customer_risk_result['base_yymm'] = base_yymm\n",
    "customer_risk_result.head()"
   ]
  },
  {
   "cell_type": "code",
   "execution_count": null,
   "metadata": {},
   "outputs": [],
   "source": [
    "#이제 risk_score...계산해야하는데...\n"
   ]
  },
  {
   "cell_type": "code",
   "execution_count": null,
   "metadata": {},
   "outputs": [],
   "source": [
    "#3개월치 데이터만 뽑아보자. 추후에 시스템 날짜값 참조해서 바꾸어야함. (start_yymm~end_yymm)\n",
    "# mask = (new_transaction['transaction_date'].dt.month >= 1) & (new_transaction['transaction_date'].dt.month <= 3)\n",
    "# three_transaction = new_transaction[mask]\n",
    "# three_transaction"
   ]
  },
  {
   "cell_type": "code",
   "execution_count": null,
   "metadata": {},
   "outputs": [],
   "source": [
    "#1개월치 데이터만 뽑아보자. 추후에 시스템 날짜값 참조해서 바꾸어야함. (start_yymm~end_yymm)\n",
    "# one_transaction = new_transaction[new_transaction['transaction_date'].dt.month == 3]\n",
    "# one_transaction"
   ]
  },
  {
   "cell_type": "code",
   "execution_count": null,
   "metadata": {},
   "outputs": [],
   "source": [
    "#1개월 거래금액을 customer_id로 그룹화 시키기\n",
    "# one_group = one_transaction['amount'].groupby( one_transaction[\"customer_id\"] )"
   ]
  },
  {
   "cell_type": "code",
   "execution_count": null,
   "metadata": {},
   "outputs": [],
   "source": [
    "#1개월 거래금액 합 구하기\n",
    "# one_sum = one_group.sum()\n",
    "# print(one_sum)"
   ]
  },
  {
   "cell_type": "code",
   "execution_count": null,
   "metadata": {},
   "outputs": [],
   "source": [
    "#3개월 거래금액을 customer_id로 그룹화 시키기\n",
    "# three_group = three_transaction.groupby([\"customer_id\"] ).mean()\n",
    "# print(three_group)\n",
    "# three_group = three_transaction['amount'].groupby( three_transaction[\"customer_id\"] )"
   ]
  },
  {
   "cell_type": "code",
   "execution_count": 17,
   "metadata": {},
   "outputs": [
    {
     "data": {
      "text/html": [
       "<div>\n",
       "<style scoped>\n",
       "    .dataframe tbody tr th:only-of-type {\n",
       "        vertical-align: middle;\n",
       "    }\n",
       "\n",
       "    .dataframe tbody tr th {\n",
       "        vertical-align: top;\n",
       "    }\n",
       "\n",
       "    .dataframe thead th {\n",
       "        text-align: right;\n",
       "    }\n",
       "</style>\n",
       "<table border=\"1\" class=\"dataframe\">\n",
       "  <thead>\n",
       "    <tr style=\"text-align: right;\">\n",
       "      <th></th>\n",
       "      <th>customer_id</th>\n",
       "    </tr>\n",
       "  </thead>\n",
       "  <tbody>\n",
       "  </tbody>\n",
       "</table>\n",
       "</div>"
      ],
      "text/plain": [
       "Empty DataFrame\n",
       "Columns: [customer_id]\n",
       "Index: []"
      ]
     },
     "execution_count": 17,
     "metadata": {},
     "output_type": "execute_result"
    }
   ],
   "source": [
    "### 생각해보니 각 달마다 사용자가 사용한 값을 구해서 csv로 저장시키는 것도 괜찮음\n",
    "customer_month_pay = pd.DataFrame(columns=['customer_id']) \n",
    "customer_month_pay"
   ]
  },
  {
   "cell_type": "code",
   "execution_count": 18,
   "metadata": {},
   "outputs": [
    {
     "data": {
      "text/html": [
       "<div>\n",
       "<style scoped>\n",
       "    .dataframe tbody tr th:only-of-type {\n",
       "        vertical-align: middle;\n",
       "    }\n",
       "\n",
       "    .dataframe tbody tr th {\n",
       "        vertical-align: top;\n",
       "    }\n",
       "\n",
       "    .dataframe thead th {\n",
       "        text-align: right;\n",
       "    }\n",
       "</style>\n",
       "<table border=\"1\" class=\"dataframe\">\n",
       "  <thead>\n",
       "    <tr style=\"text-align: right;\">\n",
       "      <th></th>\n",
       "      <th>id</th>\n",
       "      <th>transaction_date</th>\n",
       "      <th>customer_id</th>\n",
       "      <th>amount</th>\n",
       "    </tr>\n",
       "  </thead>\n",
       "  <tbody>\n",
       "    <tr>\n",
       "      <th>0</th>\n",
       "      <td>1</td>\n",
       "      <td>2019-01-01 00:00:01</td>\n",
       "      <td>3001</td>\n",
       "      <td>543500</td>\n",
       "    </tr>\n",
       "    <tr>\n",
       "      <th>10891</th>\n",
       "      <td>10892</td>\n",
       "      <td>2019-01-11 10:41:32</td>\n",
       "      <td>3001</td>\n",
       "      <td>769200</td>\n",
       "    </tr>\n",
       "    <tr>\n",
       "      <th>20774</th>\n",
       "      <td>20775</td>\n",
       "      <td>2019-01-21 09:17:18</td>\n",
       "      <td>3001</td>\n",
       "      <td>1686500</td>\n",
       "    </tr>\n",
       "    <tr>\n",
       "      <th>22615</th>\n",
       "      <td>22616</td>\n",
       "      <td>2019-01-23 07:22:49</td>\n",
       "      <td>3001</td>\n",
       "      <td>857900</td>\n",
       "    </tr>\n",
       "    <tr>\n",
       "      <th>4043</th>\n",
       "      <td>4044</td>\n",
       "      <td>2019-01-05 00:30:59</td>\n",
       "      <td>3001</td>\n",
       "      <td>1982900</td>\n",
       "    </tr>\n",
       "    <tr>\n",
       "      <th>...</th>\n",
       "      <td>...</td>\n",
       "      <td>...</td>\n",
       "      <td>...</td>\n",
       "      <td>...</td>\n",
       "    </tr>\n",
       "    <tr>\n",
       "      <th>65998</th>\n",
       "      <td>65999</td>\n",
       "      <td>2019-03-07 23:58:35</td>\n",
       "      <td>9999</td>\n",
       "      <td>1673100</td>\n",
       "    </tr>\n",
       "    <tr>\n",
       "      <th>89998</th>\n",
       "      <td>89999</td>\n",
       "      <td>2019-03-31 23:58:35</td>\n",
       "      <td>9999</td>\n",
       "      <td>1173400</td>\n",
       "    </tr>\n",
       "    <tr>\n",
       "      <th>23998</th>\n",
       "      <td>23999</td>\n",
       "      <td>2019-01-24 23:58:35</td>\n",
       "      <td>9999</td>\n",
       "      <td>1637800</td>\n",
       "    </tr>\n",
       "    <tr>\n",
       "      <th>11998</th>\n",
       "      <td>11999</td>\n",
       "      <td>2019-01-12 23:58:35</td>\n",
       "      <td>9999</td>\n",
       "      <td>726000</td>\n",
       "    </tr>\n",
       "    <tr>\n",
       "      <th>41998</th>\n",
       "      <td>41999</td>\n",
       "      <td>2019-02-11 23:58:35</td>\n",
       "      <td>9999</td>\n",
       "      <td>1354200</td>\n",
       "    </tr>\n",
       "  </tbody>\n",
       "</table>\n",
       "<p>120000 rows × 4 columns</p>\n",
       "</div>"
      ],
      "text/plain": [
       "          id    transaction_date  customer_id   amount\n",
       "0          1 2019-01-01 00:00:01         3001   543500\n",
       "10891  10892 2019-01-11 10:41:32         3001   769200\n",
       "20774  20775 2019-01-21 09:17:18         3001  1686500\n",
       "22615  22616 2019-01-23 07:22:49         3001   857900\n",
       "4043    4044 2019-01-05 00:30:59         3001  1982900\n",
       "...      ...                 ...          ...      ...\n",
       "65998  65999 2019-03-07 23:58:35         9999  1673100\n",
       "89998  89999 2019-03-31 23:58:35         9999  1173400\n",
       "23998  23999 2019-01-24 23:58:35         9999  1637800\n",
       "11998  11999 2019-01-12 23:58:35         9999   726000\n",
       "41998  41999 2019-02-11 23:58:35         9999  1354200\n",
       "\n",
       "[120000 rows x 4 columns]"
      ]
     },
     "execution_count": 18,
     "metadata": {},
     "output_type": "execute_result"
    }
   ],
   "source": [
    "sort_new_transaction = new_transaction.sort_values(by='customer_id')\n",
    "sort_new_transaction"
   ]
  },
  {
   "cell_type": "code",
   "execution_count": 19,
   "metadata": {},
   "outputs": [
    {
     "data": {
      "text/html": [
       "<div>\n",
       "<style scoped>\n",
       "    .dataframe tbody tr th:only-of-type {\n",
       "        vertical-align: middle;\n",
       "    }\n",
       "\n",
       "    .dataframe tbody tr th {\n",
       "        vertical-align: top;\n",
       "    }\n",
       "\n",
       "    .dataframe thead th {\n",
       "        text-align: right;\n",
       "    }\n",
       "</style>\n",
       "<table border=\"1\" class=\"dataframe\">\n",
       "  <thead>\n",
       "    <tr style=\"text-align: right;\">\n",
       "      <th></th>\n",
       "      <th>id</th>\n",
       "      <th>transaction_date</th>\n",
       "      <th>customer_id</th>\n",
       "      <th>amount</th>\n",
       "    </tr>\n",
       "  </thead>\n",
       "  <tbody>\n",
       "    <tr>\n",
       "      <th>0</th>\n",
       "      <td>1</td>\n",
       "      <td>01</td>\n",
       "      <td>3001</td>\n",
       "      <td>543500</td>\n",
       "    </tr>\n",
       "    <tr>\n",
       "      <th>10891</th>\n",
       "      <td>10892</td>\n",
       "      <td>01</td>\n",
       "      <td>3001</td>\n",
       "      <td>769200</td>\n",
       "    </tr>\n",
       "    <tr>\n",
       "      <th>20774</th>\n",
       "      <td>20775</td>\n",
       "      <td>01</td>\n",
       "      <td>3001</td>\n",
       "      <td>1686500</td>\n",
       "    </tr>\n",
       "    <tr>\n",
       "      <th>22615</th>\n",
       "      <td>22616</td>\n",
       "      <td>01</td>\n",
       "      <td>3001</td>\n",
       "      <td>857900</td>\n",
       "    </tr>\n",
       "    <tr>\n",
       "      <th>4043</th>\n",
       "      <td>4044</td>\n",
       "      <td>01</td>\n",
       "      <td>3001</td>\n",
       "      <td>1982900</td>\n",
       "    </tr>\n",
       "    <tr>\n",
       "      <th>...</th>\n",
       "      <td>...</td>\n",
       "      <td>...</td>\n",
       "      <td>...</td>\n",
       "      <td>...</td>\n",
       "    </tr>\n",
       "    <tr>\n",
       "      <th>65998</th>\n",
       "      <td>65999</td>\n",
       "      <td>03</td>\n",
       "      <td>9999</td>\n",
       "      <td>1673100</td>\n",
       "    </tr>\n",
       "    <tr>\n",
       "      <th>89998</th>\n",
       "      <td>89999</td>\n",
       "      <td>03</td>\n",
       "      <td>9999</td>\n",
       "      <td>1173400</td>\n",
       "    </tr>\n",
       "    <tr>\n",
       "      <th>23998</th>\n",
       "      <td>23999</td>\n",
       "      <td>01</td>\n",
       "      <td>9999</td>\n",
       "      <td>1637800</td>\n",
       "    </tr>\n",
       "    <tr>\n",
       "      <th>11998</th>\n",
       "      <td>11999</td>\n",
       "      <td>01</td>\n",
       "      <td>9999</td>\n",
       "      <td>726000</td>\n",
       "    </tr>\n",
       "    <tr>\n",
       "      <th>41998</th>\n",
       "      <td>41999</td>\n",
       "      <td>02</td>\n",
       "      <td>9999</td>\n",
       "      <td>1354200</td>\n",
       "    </tr>\n",
       "  </tbody>\n",
       "</table>\n",
       "<p>120000 rows × 4 columns</p>\n",
       "</div>"
      ],
      "text/plain": [
       "          id transaction_date  customer_id   amount\n",
       "0          1               01         3001   543500\n",
       "10891  10892               01         3001   769200\n",
       "20774  20775               01         3001  1686500\n",
       "22615  22616               01         3001   857900\n",
       "4043    4044               01         3001  1982900\n",
       "...      ...              ...          ...      ...\n",
       "65998  65999               03         9999  1673100\n",
       "89998  89999               03         9999  1173400\n",
       "23998  23999               01         9999  1637800\n",
       "11998  11999               01         9999   726000\n",
       "41998  41999               02         9999  1354200\n",
       "\n",
       "[120000 rows x 4 columns]"
      ]
     },
     "execution_count": 19,
     "metadata": {},
     "output_type": "execute_result"
    }
   ],
   "source": [
    "# transaction_date month 별로 index 생성\n",
    "sort_new_transaction['transaction_date']=sort_new_transaction['transaction_date'].map(lambda x: x.strftime('%m'))\n",
    "sort_new_transaction"
   ]
  },
  {
   "cell_type": "code",
   "execution_count": 20,
   "metadata": {},
   "outputs": [
    {
     "data": {
      "text/html": [
       "<div>\n",
       "<style scoped>\n",
       "    .dataframe tbody tr th:only-of-type {\n",
       "        vertical-align: middle;\n",
       "    }\n",
       "\n",
       "    .dataframe tbody tr th {\n",
       "        vertical-align: top;\n",
       "    }\n",
       "\n",
       "    .dataframe thead th {\n",
       "        text-align: right;\n",
       "    }\n",
       "</style>\n",
       "<table border=\"1\" class=\"dataframe\">\n",
       "  <thead>\n",
       "    <tr style=\"text-align: right;\">\n",
       "      <th></th>\n",
       "      <th>customer_id</th>\n",
       "      <th>transaction_date</th>\n",
       "      <th>id</th>\n",
       "      <th>amount</th>\n",
       "    </tr>\n",
       "  </thead>\n",
       "  <tbody>\n",
       "    <tr>\n",
       "      <th>0</th>\n",
       "      <td>3001</td>\n",
       "      <td>01</td>\n",
       "      <td>67893</td>\n",
       "      <td>7062500</td>\n",
       "    </tr>\n",
       "    <tr>\n",
       "      <th>1</th>\n",
       "      <td>3002</td>\n",
       "      <td>01</td>\n",
       "      <td>67899</td>\n",
       "      <td>5678800</td>\n",
       "    </tr>\n",
       "    <tr>\n",
       "      <th>2</th>\n",
       "      <td>3003</td>\n",
       "      <td>01</td>\n",
       "      <td>67905</td>\n",
       "      <td>6107200</td>\n",
       "    </tr>\n",
       "    <tr>\n",
       "      <th>3</th>\n",
       "      <td>3004</td>\n",
       "      <td>01</td>\n",
       "      <td>67911</td>\n",
       "      <td>10084000</td>\n",
       "    </tr>\n",
       "    <tr>\n",
       "      <th>4</th>\n",
       "      <td>3005</td>\n",
       "      <td>01</td>\n",
       "      <td>67917</td>\n",
       "      <td>7073400</td>\n",
       "    </tr>\n",
       "    <tr>\n",
       "      <th>...</th>\n",
       "      <td>...</td>\n",
       "      <td>...</td>\n",
       "      <td>...</td>\n",
       "      <td>...</td>\n",
       "    </tr>\n",
       "    <tr>\n",
       "      <th>25295</th>\n",
       "      <td>9998</td>\n",
       "      <td>04</td>\n",
       "      <td>539990</td>\n",
       "      <td>4232500</td>\n",
       "    </tr>\n",
       "    <tr>\n",
       "      <th>25296</th>\n",
       "      <td>9999</td>\n",
       "      <td>01</td>\n",
       "      <td>89995</td>\n",
       "      <td>5631500</td>\n",
       "    </tr>\n",
       "    <tr>\n",
       "      <th>25297</th>\n",
       "      <td>9999</td>\n",
       "      <td>02</td>\n",
       "      <td>179996</td>\n",
       "      <td>2674800</td>\n",
       "    </tr>\n",
       "    <tr>\n",
       "      <th>25298</th>\n",
       "      <td>9999</td>\n",
       "      <td>03</td>\n",
       "      <td>449994</td>\n",
       "      <td>5972200</td>\n",
       "    </tr>\n",
       "    <tr>\n",
       "      <th>25299</th>\n",
       "      <td>9999</td>\n",
       "      <td>04</td>\n",
       "      <td>539995</td>\n",
       "      <td>5961100</td>\n",
       "    </tr>\n",
       "  </tbody>\n",
       "</table>\n",
       "<p>25300 rows × 4 columns</p>\n",
       "</div>"
      ],
      "text/plain": [
       "       customer_id transaction_date      id    amount\n",
       "0             3001               01   67893   7062500\n",
       "1             3002               01   67899   5678800\n",
       "2             3003               01   67905   6107200\n",
       "3             3004               01   67911  10084000\n",
       "4             3005               01   67917   7073400\n",
       "...            ...              ...     ...       ...\n",
       "25295         9998               04  539990   4232500\n",
       "25296         9999               01   89995   5631500\n",
       "25297         9999               02  179996   2674800\n",
       "25298         9999               03  449994   5972200\n",
       "25299         9999               04  539995   5961100\n",
       "\n",
       "[25300 rows x 4 columns]"
      ]
     },
     "execution_count": 20,
     "metadata": {},
     "output_type": "execute_result"
    }
   ],
   "source": [
    "#달마다 회원별 구매액 계산완료 \n",
    "month_transaction=sort_new_transaction.groupby(['customer_id','transaction_date']).sum()\n",
    "month_transaction.reset_index(level=['customer_id','transaction_date'], inplace = True)\n",
    "month_transaction"
   ]
  },
  {
   "cell_type": "code",
   "execution_count": 21,
   "metadata": {},
   "outputs": [
    {
     "data": {
      "text/html": [
       "<div>\n",
       "<style scoped>\n",
       "    .dataframe tbody tr th:only-of-type {\n",
       "        vertical-align: middle;\n",
       "    }\n",
       "\n",
       "    .dataframe tbody tr th {\n",
       "        vertical-align: top;\n",
       "    }\n",
       "\n",
       "    .dataframe thead th {\n",
       "        text-align: right;\n",
       "    }\n",
       "</style>\n",
       "<table border=\"1\" class=\"dataframe\">\n",
       "  <thead>\n",
       "    <tr style=\"text-align: right;\">\n",
       "      <th></th>\n",
       "      <th>customer_id</th>\n",
       "      <th>transaction_date</th>\n",
       "      <th>id</th>\n",
       "      <th>amount</th>\n",
       "    </tr>\n",
       "  </thead>\n",
       "  <tbody>\n",
       "    <tr>\n",
       "      <th>1304</th>\n",
       "      <td>4001</td>\n",
       "      <td>01</td>\n",
       "      <td>90005</td>\n",
       "      <td>4841900</td>\n",
       "    </tr>\n",
       "    <tr>\n",
       "      <th>1305</th>\n",
       "      <td>4001</td>\n",
       "      <td>02</td>\n",
       "      <td>180004</td>\n",
       "      <td>4437700</td>\n",
       "    </tr>\n",
       "    <tr>\n",
       "      <th>1306</th>\n",
       "      <td>4001</td>\n",
       "      <td>03</td>\n",
       "      <td>360005</td>\n",
       "      <td>6577500</td>\n",
       "    </tr>\n",
       "    <tr>\n",
       "      <th>1307</th>\n",
       "      <td>4001</td>\n",
       "      <td>04</td>\n",
       "      <td>510005</td>\n",
       "      <td>4332700</td>\n",
       "    </tr>\n",
       "  </tbody>\n",
       "</table>\n",
       "</div>"
      ],
      "text/plain": [
       "      customer_id transaction_date      id   amount\n",
       "1304         4001               01   90005  4841900\n",
       "1305         4001               02  180004  4437700\n",
       "1306         4001               03  360005  6577500\n",
       "1307         4001               04  510005  4332700"
      ]
     },
     "execution_count": 21,
     "metadata": {},
     "output_type": "execute_result"
    }
   ],
   "source": [
    "month_transaction[month_transaction['customer_id']==4001]"
   ]
  },
  {
   "cell_type": "code",
   "execution_count": 22,
   "metadata": {},
   "outputs": [
    {
     "data": {
      "text/html": [
       "<div>\n",
       "<style scoped>\n",
       "    .dataframe tbody tr th:only-of-type {\n",
       "        vertical-align: middle;\n",
       "    }\n",
       "\n",
       "    .dataframe tbody tr th {\n",
       "        vertical-align: top;\n",
       "    }\n",
       "\n",
       "    .dataframe thead th {\n",
       "        text-align: right;\n",
       "    }\n",
       "</style>\n",
       "<table border=\"1\" class=\"dataframe\">\n",
       "  <thead>\n",
       "    <tr style=\"text-align: right;\">\n",
       "      <th></th>\n",
       "      <th>customer_id</th>\n",
       "      <th>transaction_date</th>\n",
       "      <th>id</th>\n",
       "      <th>amount</th>\n",
       "    </tr>\n",
       "  </thead>\n",
       "  <tbody>\n",
       "    <tr>\n",
       "      <th>100</th>\n",
       "      <td>3101</td>\n",
       "      <td>02</td>\n",
       "      <td>256558</td>\n",
       "      <td>10380600</td>\n",
       "    </tr>\n",
       "    <tr>\n",
       "      <th>101</th>\n",
       "      <td>3102</td>\n",
       "      <td>02</td>\n",
       "      <td>256565</td>\n",
       "      <td>7370400</td>\n",
       "    </tr>\n",
       "    <tr>\n",
       "      <th>102</th>\n",
       "      <td>3103</td>\n",
       "      <td>02</td>\n",
       "      <td>256572</td>\n",
       "      <td>8473300</td>\n",
       "    </tr>\n",
       "    <tr>\n",
       "      <th>103</th>\n",
       "      <td>3104</td>\n",
       "      <td>02</td>\n",
       "      <td>256579</td>\n",
       "      <td>8266900</td>\n",
       "    </tr>\n",
       "    <tr>\n",
       "      <th>104</th>\n",
       "      <td>3105</td>\n",
       "      <td>02</td>\n",
       "      <td>256586</td>\n",
       "      <td>5757500</td>\n",
       "    </tr>\n",
       "    <tr>\n",
       "      <th>...</th>\n",
       "      <td>...</td>\n",
       "      <td>...</td>\n",
       "      <td>...</td>\n",
       "      <td>...</td>\n",
       "    </tr>\n",
       "    <tr>\n",
       "      <th>25294</th>\n",
       "      <td>9998</td>\n",
       "      <td>03</td>\n",
       "      <td>449988</td>\n",
       "      <td>6191200</td>\n",
       "    </tr>\n",
       "    <tr>\n",
       "      <th>25295</th>\n",
       "      <td>9998</td>\n",
       "      <td>04</td>\n",
       "      <td>539990</td>\n",
       "      <td>4232500</td>\n",
       "    </tr>\n",
       "    <tr>\n",
       "      <th>25297</th>\n",
       "      <td>9999</td>\n",
       "      <td>02</td>\n",
       "      <td>179996</td>\n",
       "      <td>2674800</td>\n",
       "    </tr>\n",
       "    <tr>\n",
       "      <th>25298</th>\n",
       "      <td>9999</td>\n",
       "      <td>03</td>\n",
       "      <td>449994</td>\n",
       "      <td>5972200</td>\n",
       "    </tr>\n",
       "    <tr>\n",
       "      <th>25299</th>\n",
       "      <td>9999</td>\n",
       "      <td>04</td>\n",
       "      <td>539995</td>\n",
       "      <td>5961100</td>\n",
       "    </tr>\n",
       "  </tbody>\n",
       "</table>\n",
       "<p>19000 rows × 4 columns</p>\n",
       "</div>"
      ],
      "text/plain": [
       "       customer_id transaction_date      id    amount\n",
       "100           3101               02  256558  10380600\n",
       "101           3102               02  256565   7370400\n",
       "102           3103               02  256572   8473300\n",
       "103           3104               02  256579   8266900\n",
       "104           3105               02  256586   5757500\n",
       "...            ...              ...     ...       ...\n",
       "25294         9998               03  449988   6191200\n",
       "25295         9998               04  539990   4232500\n",
       "25297         9999               02  179996   2674800\n",
       "25298         9999               03  449994   5972200\n",
       "25299         9999               04  539995   5961100\n",
       "\n",
       "[19000 rows x 4 columns]"
      ]
     },
     "execution_count": 22,
     "metadata": {},
     "output_type": "execute_result"
    }
   ],
   "source": [
    "#1월달의 데이터 제거 총 3개월의 데이터\n",
    "three_month_pay = month_transaction[month_transaction.transaction_date != '01']\n",
    "three_month_pay"
   ]
  },
  {
   "cell_type": "code",
   "execution_count": 23,
   "metadata": {},
   "outputs": [
    {
     "data": {
      "text/html": [
       "<div>\n",
       "<style scoped>\n",
       "    .dataframe tbody tr th:only-of-type {\n",
       "        vertical-align: middle;\n",
       "    }\n",
       "\n",
       "    .dataframe tbody tr th {\n",
       "        vertical-align: top;\n",
       "    }\n",
       "\n",
       "    .dataframe thead th {\n",
       "        text-align: right;\n",
       "    }\n",
       "</style>\n",
       "<table border=\"1\" class=\"dataframe\">\n",
       "  <thead>\n",
       "    <tr style=\"text-align: right;\">\n",
       "      <th></th>\n",
       "      <th>customer_id</th>\n",
       "      <th>amount</th>\n",
       "    </tr>\n",
       "  </thead>\n",
       "  <tbody>\n",
       "    <tr>\n",
       "      <th>0</th>\n",
       "      <td>3101</td>\n",
       "      <td>1.038060e+07</td>\n",
       "    </tr>\n",
       "    <tr>\n",
       "      <th>1</th>\n",
       "      <td>3102</td>\n",
       "      <td>7.370400e+06</td>\n",
       "    </tr>\n",
       "    <tr>\n",
       "      <th>2</th>\n",
       "      <td>3103</td>\n",
       "      <td>8.473300e+06</td>\n",
       "    </tr>\n",
       "    <tr>\n",
       "      <th>3</th>\n",
       "      <td>3104</td>\n",
       "      <td>8.266900e+06</td>\n",
       "    </tr>\n",
       "    <tr>\n",
       "      <th>4</th>\n",
       "      <td>3105</td>\n",
       "      <td>5.757500e+06</td>\n",
       "    </tr>\n",
       "    <tr>\n",
       "      <th>...</th>\n",
       "      <td>...</td>\n",
       "      <td>...</td>\n",
       "    </tr>\n",
       "    <tr>\n",
       "      <th>6695</th>\n",
       "      <td>9995</td>\n",
       "      <td>5.659667e+06</td>\n",
       "    </tr>\n",
       "    <tr>\n",
       "      <th>6696</th>\n",
       "      <td>9996</td>\n",
       "      <td>5.102167e+06</td>\n",
       "    </tr>\n",
       "    <tr>\n",
       "      <th>6697</th>\n",
       "      <td>9997</td>\n",
       "      <td>6.056833e+06</td>\n",
       "    </tr>\n",
       "    <tr>\n",
       "      <th>6698</th>\n",
       "      <td>9998</td>\n",
       "      <td>5.150567e+06</td>\n",
       "    </tr>\n",
       "    <tr>\n",
       "      <th>6699</th>\n",
       "      <td>9999</td>\n",
       "      <td>4.869367e+06</td>\n",
       "    </tr>\n",
       "  </tbody>\n",
       "</table>\n",
       "<p>6700 rows × 2 columns</p>\n",
       "</div>"
      ],
      "text/plain": [
       "      customer_id        amount\n",
       "0            3101  1.038060e+07\n",
       "1            3102  7.370400e+06\n",
       "2            3103  8.473300e+06\n",
       "3            3104  8.266900e+06\n",
       "4            3105  5.757500e+06\n",
       "...           ...           ...\n",
       "6695         9995  5.659667e+06\n",
       "6696         9996  5.102167e+06\n",
       "6697         9997  6.056833e+06\n",
       "6698         9998  5.150567e+06\n",
       "6699         9999  4.869367e+06\n",
       "\n",
       "[6700 rows x 2 columns]"
      ]
     },
     "execution_count": 23,
     "metadata": {},
     "output_type": "execute_result"
    }
   ],
   "source": [
    "# 3개월의 데이터 중 평균 값 구하기\n",
    "tree_month_mean=three_month_pay.groupby(['customer_id']).mean()\n",
    "tree_month_mean.reset_index(level=['customer_id'], inplace = True)\n",
    "tree_month_mean=tree_month_mean.drop('id',axis=1)\n",
    "tree_month_mean"
   ]
  },
  {
   "cell_type": "code",
   "execution_count": 33,
   "metadata": {},
   "outputs": [
    {
     "data": {
      "text/html": [
       "<div>\n",
       "<style scoped>\n",
       "    .dataframe tbody tr th:only-of-type {\n",
       "        vertical-align: middle;\n",
       "    }\n",
       "\n",
       "    .dataframe tbody tr th {\n",
       "        vertical-align: top;\n",
       "    }\n",
       "\n",
       "    .dataframe thead th {\n",
       "        text-align: right;\n",
       "    }\n",
       "</style>\n",
       "<table border=\"1\" class=\"dataframe\">\n",
       "  <thead>\n",
       "    <tr style=\"text-align: right;\">\n",
       "      <th></th>\n",
       "      <th>customer_id</th>\n",
       "      <th>amount</th>\n",
       "    </tr>\n",
       "  </thead>\n",
       "  <tbody>\n",
       "    <tr>\n",
       "      <th>0</th>\n",
       "      <td>3101</td>\n",
       "      <td>10380600</td>\n",
       "    </tr>\n",
       "    <tr>\n",
       "      <th>1</th>\n",
       "      <td>3102</td>\n",
       "      <td>7370400</td>\n",
       "    </tr>\n",
       "    <tr>\n",
       "      <th>2</th>\n",
       "      <td>3103</td>\n",
       "      <td>8473300</td>\n",
       "    </tr>\n",
       "    <tr>\n",
       "      <th>3</th>\n",
       "      <td>3104</td>\n",
       "      <td>8266900</td>\n",
       "    </tr>\n",
       "    <tr>\n",
       "      <th>4</th>\n",
       "      <td>3105</td>\n",
       "      <td>5757500</td>\n",
       "    </tr>\n",
       "    <tr>\n",
       "      <th>...</th>\n",
       "      <td>...</td>\n",
       "      <td>...</td>\n",
       "    </tr>\n",
       "    <tr>\n",
       "      <th>6695</th>\n",
       "      <td>9995</td>\n",
       "      <td>4504500</td>\n",
       "    </tr>\n",
       "    <tr>\n",
       "      <th>6696</th>\n",
       "      <td>9996</td>\n",
       "      <td>3417300</td>\n",
       "    </tr>\n",
       "    <tr>\n",
       "      <th>6697</th>\n",
       "      <td>9997</td>\n",
       "      <td>4956600</td>\n",
       "    </tr>\n",
       "    <tr>\n",
       "      <th>6698</th>\n",
       "      <td>9998</td>\n",
       "      <td>4232500</td>\n",
       "    </tr>\n",
       "    <tr>\n",
       "      <th>6699</th>\n",
       "      <td>9999</td>\n",
       "      <td>2674800</td>\n",
       "    </tr>\n",
       "  </tbody>\n",
       "</table>\n",
       "<p>6700 rows × 2 columns</p>\n",
       "</div>"
      ],
      "text/plain": [
       "      customer_id    amount\n",
       "0            3101  10380600\n",
       "1            3102   7370400\n",
       "2            3103   8473300\n",
       "3            3104   8266900\n",
       "4            3105   5757500\n",
       "...           ...       ...\n",
       "6695         9995   4504500\n",
       "6696         9996   3417300\n",
       "6697         9997   4956600\n",
       "6698         9998   4232500\n",
       "6699         9999   2674800\n",
       "\n",
       "[6700 rows x 2 columns]"
      ]
     },
     "execution_count": 33,
     "metadata": {},
     "output_type": "execute_result"
    }
   ],
   "source": [
    "# 3개월의 데이터 중 최소 값 구하기\n",
    "tree_month_min=three_month_pay.groupby(['customer_id']).min()\n",
    "tree_month_min.reset_index(level=['customer_id'], inplace = True)\n",
    "tree_month_min=tree_month_min.drop(['transaction_date','id'],axis=1)\n",
    "tree_month_min\n"
   ]
  },
  {
   "cell_type": "code",
   "execution_count": null,
   "metadata": {},
   "outputs": [],
   "source": [
    "# 3개월의 데이터 중 최대 값 구하기\n",
    "tree_month_max=three_month_pay.groupby(['customer_id']).max()\n",
    "tree_month_max.reset_index(level=['customer_id'], inplace = True)\n",
    "tree_month_max=tree_month_max.drop(['transaction_date','id'],axis=1)\n",
    "tree_month_max"
   ]
  },
  {
   "cell_type": "code",
   "execution_count": null,
   "metadata": {},
   "outputs": [],
   "source": [
    "### 각 사용자가 각 달마다 사용한 값 저장\n",
    "customer_month_pay['customer_id'] = new_transaction.drop_duplicates('customer_id',keep='first')['customer_id']\n",
    "customer_month_pay\n",
    "\n",
    "\n",
    "customer_id = new_transaction.drop_duplicates('customer_id',keep='first')\n",
    "customer_month_pay['customer_id'] = customer_id['customer_id']\n",
    "customer_month_pay"
   ]
  },
  {
   "cell_type": "code",
   "execution_count": null,
   "metadata": {},
   "outputs": [],
   "source": [
    "#원본데이터를 보니 4개월치밖에 없었음.\n",
    "for idx in range(1,5):\n",
    "    one_transaction = new_transaction[new_transaction['transaction_date'].dt.month == idx]\n",
    "#     one_group = one_transaction['amount'].groupby( one_transaction[\"customer_id\"] ).sum().to_frame()\n",
    "    one_group = one_transaction.groupby('customer_id')[\"amount\"].sum().reset_index(name =idx)\n",
    "    customer_month_pay=pd.merge(customer_month_pay,one_group,on=\"customer_id\")\n",
    "    "
   ]
  },
  {
   "cell_type": "code",
   "execution_count": null,
   "metadata": {},
   "outputs": [],
   "source": [
    "#1월부터 4월까지 사용자들이 사용한 월당 값 출력\n",
    "customer_month_pay   #총 6000 row 확인 완료 / 실거래자가 6천명이라는 뜻"
   ]
  },
  {
   "cell_type": "code",
   "execution_count": null,
   "metadata": {},
   "outputs": [],
   "source": [
    "#일단 구한 값 csv 저장\n",
    "customer_month_pay.to_csv(\"data/dest/customer_month_pay.csv\", mode='w')"
   ]
  },
  {
   "cell_type": "code",
   "execution_count": null,
   "metadata": {},
   "outputs": [],
   "source": [
    "#누적확률 = (3개월 거래금액 평균-3개월 거래금액 최소값) / (3개월 거래금액 최대값-3개월 거래금액 최소값)"
   ]
  },
  {
   "cell_type": "code",
   "execution_count": null,
   "metadata": {},
   "outputs": [],
   "source": [
    "# three_customer_month_pay=customer_month_pay.iloc[:,2:5]\n",
    "# three_customer_month_pay.head()  "
   ]
  },
  {
   "cell_type": "code",
   "execution_count": null,
   "metadata": {},
   "outputs": [],
   "source": [
    "#3개월 거래금액 최소값\n",
    "three_min=three_customer_month_pay.min(axis=1)\n",
    "three_min"
   ]
  },
  {
   "cell_type": "code",
   "execution_count": null,
   "metadata": {},
   "outputs": [],
   "source": [
    "#3개월 거래금액 최대값\n",
    "three_max=three_customer_month_pay.max(axis=1)\n",
    "print(three_max)"
   ]
  },
  {
   "cell_type": "code",
   "execution_count": null,
   "metadata": {},
   "outputs": [],
   "source": [
    "#3개월 거래금액 평균\n",
    "three_mean=three_customer_month_pay.mean(axis=1)\n",
    "print(three_mean)"
   ]
  },
  {
   "cell_type": "code",
   "execution_count": null,
   "metadata": {},
   "outputs": [],
   "source": [
    "#누적확률 = (3개월 거래금액 평균-3개월 거래금액 최소값) / (3개월 거래금액 최대값-3개월 거래금액 최소값)\n",
    "cumulative_probability = (three_mean-three_min)/(three_max-three_min)\n",
    "print(cumulative_probability)\n",
    "\n"
   ]
  },
  {
   "cell_type": "code",
   "execution_count": null,
   "metadata": {},
   "outputs": [],
   "source": [
    "#고객의 최근 1개월 거래 금액\n",
    "one_customer_month_pay=customer_month_pay.iloc[:,4:5]\n",
    "print(one_customer_month_pay)"
   ]
  },
  {
   "cell_type": "code",
   "execution_count": null,
   "metadata": {},
   "outputs": [],
   "source": [
    "print(cumulative_probability*100)\n",
    "\n",
    "print(one_customer_month_pay)\n",
    "customer_level = (one_customer_month_pay)/(cumulative_probability)\n",
    "print(customer_level[4])"
   ]
  },
  {
   "cell_type": "code",
   "execution_count": null,
   "metadata": {},
   "outputs": [],
   "source": [
    "print(customer_risk_result)"
   ]
  },
  {
   "cell_type": "code",
   "execution_count": null,
   "metadata": {},
   "outputs": [],
   "source": [
    "#application 닫기\n",
    "sc.stop()"
   ]
  },
  {
   "cell_type": "code",
   "execution_count": null,
   "metadata": {},
   "outputs": [],
   "source": [
    "## 별첨.\n",
    "# grade_base 만들기\n",
    "dict = {'grade':[\"A\",\"B\",\"C\"],\n",
    "       'min_score': [\"71\",\"31\",\"0\"],\n",
    "       'max_score': [\"100\",\"70\",\"30\"]}\n",
    "grade_base = pd.DataFrame(dict)\n",
    "print(grade_base)\n"
   ]
  },
  {
   "cell_type": "code",
   "execution_count": null,
   "metadata": {},
   "outputs": [],
   "source": [
    "# csv 저장하기\n",
    "grade_base.to_csv(\"data/dest/grade_base.csv\", mode='w')"
   ]
  },
  {
   "cell_type": "code",
   "execution_count": null,
   "metadata": {},
   "outputs": [],
   "source": []
  }
 ],
 "metadata": {
  "kernelspec": {
   "display_name": "Python 3",
   "language": "python",
   "name": "python3"
  },
  "language_info": {
   "codemirror_mode": {
    "name": "ipython",
    "version": 3
   },
   "file_extension": ".py",
   "mimetype": "text/x-python",
   "name": "python",
   "nbconvert_exporter": "python",
   "pygments_lexer": "ipython3",
   "version": "3.7.3"
  }
 },
 "nbformat": 4,
 "nbformat_minor": 2
}
